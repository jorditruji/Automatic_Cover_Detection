{
 "cells": [
  {
   "cell_type": "code",
   "execution_count": 2,
   "metadata": {},
   "outputs": [],
   "source": [
    "# Imports\n",
    "#from Audio_Processing.cqt_chroma_extractor import CQT_Chroma_Extractor\n",
    "#from Audio_Processing.melody_extractor import Melody_Extractor\n",
    "#import librosa\n",
    "#import librosa.display\n",
    "import numpy as np\n",
    "import scipy.io.wavfile as wavfile\n",
    "%matplotlib inline\n",
    "import matplotlib.pyplot as plt\n",
    "from scipy import signal\n",
    "from Audio_Processing.audio_utils import *\n",
    "import time\n",
    "import matplotlib.pyplot as plt\n",
    "from sklearn.metrics.pairwise import euclidean_distances, paired_euclidean_distances\n",
    "from sklearn import preprocessing\n",
    "from scipy.spatial import distance\n",
    "from Data_Management.dataset import Dataset\n",
    "import librosa.display\n"
   ]
  },
  {
   "cell_type": "code",
   "execution_count": 31,
   "metadata": {},
   "outputs": [],
   "source": [
    "#Funcions utilitzades\n",
    "# Centering:\n",
    "def crop(melody):\n",
    "\tprint melody.shape\n",
    "\tif melody.shape>10000:\n",
    "\t\treturn melody[0:10000]\n",
    "\telse:\n",
    "\t\treturn melody\n",
    "\n",
    "# No 0's:\n",
    "def center_mel(melody):\n",
    "\tprint \"0's\",melody[melody[:]==0].shape\n",
    "\treturn melody[melody[:]!=0]\n",
    "\n",
    "\n",
    "\n",
    "class Detector(object):\n",
    "\t\"\"\"\n",
    "\tLoads dataset\n",
    "\tParam:\n",
    "\t\tpath\n",
    "\t\"\"\"\n",
    "\n",
    "\tdef __init__(self, only_chroma = False, only_melody = False):\n",
    "\t\tself.only_chroma = only_chroma\n",
    "\t\tself.only_melody = only_melody\n",
    "\n",
    "\tdef compare(self, feat_song, feat_query, subseq):\n",
    "\t\t# Let's look for alignment:\n",
    "\n",
    "\t\t#For melodies, subseq= False\n",
    "\t\t#For chromas, subseq = True\n",
    "\t\tprint \" input 1 shape: {} \\n\".format(feat_song.shape)\n",
    "\t\tprint \" input 2 shape: {}\\n\".format(feat_query.shape)\n",
    "\t\tif subseq:\n",
    "\t\t\tD, wp = librosa.sequence.dtw(feat_song, feat_query, subseq=subseq)\n",
    "\t\t\tdist=np.sum(paired_euclidean_distances(feat_song[:,wp[:,0]], feat_query[:,wp[:,1]]))\n",
    "\t\t\tD = 0\n",
    "\t\t\tdist = np.divide(dist**2,feat_song[:,wp[:,0]].shape[1])\n",
    "\t\t\twp = 0\n",
    "\t\telse:\n",
    "\t\t\tfeat_song = np.transpose(feat_song)\n",
    "\t\t\tfeat_query = np.transpose(feat_query)\n",
    "\t\t\tD, wp = librosa.sequence.dtw(feat_song, feat_query, subseq=True)\n",
    "\t\t\tdist = self.get_dist(feat_song[:,wp[:,0]], feat_query[:,wp[:,1]])\n",
    "\t\t\tD = 0\n",
    "\t\t\twp = 0\n",
    "\t\treturn dist\n",
    "\n",
    "\tdef get_dist(self, x, y,):\n",
    "\t\tprint x == y\n",
    "\t\tprint x.shape\n",
    "\t\t# Efficient distance computation no loops ;)\n",
    "\t\t#return np.sqrt(np.dot(x, x) - 2 * np.dot(x, y) + np.dot(y, y))\n",
    "\t\t'''\n",
    "\t\tdist = -2 * np.sum(np.dot(x, y.T),axis=1) + np.sum(x**2, axis=1) + np.sum(y**2, axis=1)\n",
    "\t\tprint np.dot(x, y.T).shape\n",
    "\n",
    "\t\tdist = np.sum(dist)\n",
    "\t\t'''\n",
    "\n",
    "\t\tdist = distance.euclidean(np.squeeze(x),np.squeeze(y))\n",
    "\t\tprint dist\n",
    "\t\treturn np.divide(np.sum(dist)**2,np.squeeze(x).shape)\n",
    "\n",
    "\n",
    "\n",
    "def get_deltas(matrix):\n",
    "\tprint \"Pre-delta shape: {}\".format(matrix.shape)\n",
    "\tdeltas = librosa.feature.delta(matrix,order=2, mode ='nearest')\n",
    "\tprint \"Pre-delta shape: {}\".format(deltas.shape)\n",
    "\treturn deltas\n"
   ]
  },
  {
   "cell_type": "code",
   "execution_count": 48,
   "metadata": {},
   "outputs": [
    {
     "name": "stdout",
     "output_type": "stream",
     "text": [
      "0's (40666,)\n",
      "0's (27201,)\n",
      "0's (29858,)\n",
      "(42642,)\n",
      "(50284,)\n",
      "(47539,)\n",
      "Pre-delta shape: (10000,)\n",
      "Pre-delta shape: (10000,)\n",
      "Pre-delta shape: (10000,)\n",
      "Pre-delta shape: (10000,)\n",
      "Pre-delta shape: (10000,)\n",
      "Pre-delta shape: (10000,)\n"
     ]
    }
   ],
   "source": [
    "data_1 = np.load('../coversongs/covers32k/Rattlesnakes/tori_amos+Strange_Little_Girls+06-Rattlesnakes.npy').item()\n",
    "melody_1 = center_mel(np.expand_dims(data_1['melody'],axis=0))\n",
    "\n",
    "\n",
    "data_2 = np.load('../coversongs/covers32k/Abracadabra/steve_miller_band+Steve_Miller_Band_Live_+09-Abracadabra.npy').item()\n",
    "melody_2 = center_mel(np.expand_dims(data_2['melody'],axis=0))\n",
    "\n",
    "\n",
    "data_3 = np.load('../coversongs/covers32k/Abracadabra/sugar_ray+14_59+11-Abracadabra.npy').item()\n",
    "melody_3 = center_mel(np.expand_dims(data_3['melody'],axis=0))\n",
    "\n",
    "# NORM and CROP\n",
    "melody_1 = crop(np.divide(melody_1-np.mean(melody_1),np.std(melody_1)))\n",
    "melody_2 = crop(np.divide(melody_2-np.mean(melody_2),np.std(melody_2)))\n",
    "melody_3 = crop(np.divide(melody_3-np.mean(melody_3),np.std(melody_3)))\n",
    "\n",
    "# DERIVATIVE\n",
    "\n",
    "melody_1 = get_deltas(melody_1)\n",
    "melody_2 = get_deltas(melody_2)\n",
    "melody_3 = get_deltas(melody_3)\n",
    "\n",
    "\n",
    "# ADJUST SHAPES\n",
    "melody_1 = np.expand_dims(melody_1,axis=1)\n",
    "melody_2 = np.expand_dims(melody_2,axis=1)\n",
    "melody_3 = np.expand_dims(melody_3,axis=1)\n",
    "\n",
    "# TRANSPOSE BEFORE DTW\n",
    "melody_1 = np.transpose(melody_1)\n",
    "melody_2 = np.transpose(melody_2)\n",
    "melody_3 = np.transpose(melody_3)\n",
    "\n",
    "D, wp = librosa.sequence.dtw(melody_1, melody_2,subseq=True)\n"
   ]
  },
  {
   "cell_type": "code",
   "execution_count": 49,
   "metadata": {},
   "outputs": [
    {
     "name": "stdout",
     "output_type": "stream",
     "text": [
      "(10727, 2)\n",
      "(1, 10000)\n"
     ]
    },
    {
     "data": {
      "image/png": "[encoded data removed]",
      "text/plain": [
       "<Figure size 432x288 with 2 Axes>"
      ]
     },
     "metadata": {
      "needs_background": "light"
     },
     "output_type": "display_data"
    },
    {
     "data": {
      "text/plain": [
       "Text(0.5,1,'Aligned Melody 2')"
      ]
     },
     "execution_count": 49,
     "metadata": {},
     "output_type": "execute_result"
    },
    {
     "data": {
      "image/png": "[encoded data removed]",
      "text/plain": [
       "<Figure size 432x288 with 2 Axes>"
      ]
     },
     "metadata": {
      "needs_background": "light"
     },
     "output_type": "display_data"
    }
   ],
   "source": [
    "print wp.shape\n",
    "print melody_3.shape\n",
    "plt.figure()\n",
    "plt.subplot(2, 1, 1)\n",
    "plt.title('Melody 1')\n",
    "plt.plot(melody_1.squeeze(), color='y')\n",
    "plt.legend()\n",
    "plt.subplot(2, 1, 2)\n",
    "plt.plot(melody_2.squeeze())\n",
    "#plt.xlim([0, Y.shape[1]])\n",
    "plt.title('Melody 2')\n",
    "plt.show()\n",
    "\n",
    "\n",
    "plt.subplot(2, 1, 1)\n",
    "plt.title('Aligned Melody 1')\n",
    "plt.plot(melody_1[:,wp[:,0]].squeeze(), color='y')\n",
    "plt.legend()\n",
    "plt.subplot(2, 1, 2)\n",
    "plt.plot(melody_2[:,wp[:,1]].squeeze())\n",
    "#plt.xlim([0, Y.shape[1]])\n",
    "plt.title('Aligned Melody 2')\n",
    "\n",
    "\n"
   ]
  },
  {
   "cell_type": "code",
   "execution_count": null,
   "metadata": {},
   "outputs": [],
   "source": []
  }
 ],
 "metadata": {
  "kernelspec": {
   "display_name": "Python 2",
   "language": "python",
   "name": "python2"
  },
  "language_info": {
   "codemirror_mode": {
    "name": "ipython",
    "version": 2
   },
   "file_extension": ".py",
   "mimetype": "text/x-python",
   "name": "python",
   "nbconvert_exporter": "python",
   "pygments_lexer": "ipython2",
   "version": "2.7.9"
  }
 },
 "nbformat": 4,
 "nbformat_minor": 2
}
